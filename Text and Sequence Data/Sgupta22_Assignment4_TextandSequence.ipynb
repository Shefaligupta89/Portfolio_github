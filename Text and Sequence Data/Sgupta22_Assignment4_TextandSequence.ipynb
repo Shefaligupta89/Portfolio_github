{
  "cells": [
    {
      "cell_type": "markdown",
      "source": [
        "# Assignment 4: Text and Sequence Data\n",
        "\n",
        "# Shefali Gupta"
      ],
      "metadata": {
        "id": "Dku-6kYHQhfT"
      }
    },
    {
      "cell_type": "markdown",
      "source": [
        "Loading the required libraries"
      ],
      "metadata": {
        "id": "cPolCq8QQcjC"
      }
    },
    {
      "cell_type": "code",
      "execution_count": 1,
      "metadata": {
        "id": "Ir5BLup2vCny"
      },
      "outputs": [],
      "source": [
        "from keras.models import Sequential\n",
        "from keras.layers import Flatten, Dense\n",
        "import numpy as np\n",
        "import pandas as pd\n",
        "import seaborn as sns\n",
        "import matplotlib.pyplot as plt\n",
        "%matplotlib inline\n",
        "\n",
        "from tensorflow import keras\n",
        "from tensorflow.keras import layers\n",
        "from tensorflow.keras.callbacks import ModelCheckpoint\n",
        "from keras.models import Sequential\n",
        "from keras.layers import Flatten, Dense, Embedding, LSTM,  Conv1D, MaxPooling1D, GlobalMaxPooling1D, Dropout\n",
        "from keras.models import load_model\n",
        "from keras.preprocessing.text import Tokenizer\n",
        "from sklearn.model_selection import train_test_split\n",
        "from keras.optimizers import RMSprop\n",
        "from google.colab import files\n",
        "import re, os\n",
        "from keras.datasets import imdb\n",
        "from keras import preprocessing\n",
        "from keras.utils import pad_sequences\n"
      ]
    },
    {
      "cell_type": "markdown",
      "metadata": {
        "id": "4Dyzd-XUpwE6"
      },
      "source": [
        "Processing words in the form of a sequence: The approach using sequence models."
      ]
    },
    {
      "cell_type": "code",
      "execution_count": 3,
      "metadata": {
        "colab": {
          "base_uri": "https://localhost:8080/"
        },
        "id": "eAJvLCX6paMN",
        "outputId": "fdde6d1f-d844-4403-bdb7-1d2e4dc84574"
      },
      "outputs": [
        {
          "output_type": "stream",
          "name": "stdout",
          "text": [
            "/content/drive/MyDrive\n",
            "--2023-11-28 04:52:12--  https://ai.stanford.edu/~amaas/data/sentiment/aclImdb_v1.tar.gz\n",
            "Resolving ai.stanford.edu (ai.stanford.edu)... 171.64.68.10\n",
            "Connecting to ai.stanford.edu (ai.stanford.edu)|171.64.68.10|:443... connected.\n",
            "HTTP request sent, awaiting response... 200 OK\n",
            "Length: 84125825 (80M) [application/x-gzip]\n",
            "Saving to: ‘/content/drive/MyDrive/aclImdb_v1.tar.gz’\n",
            "\n",
            "/content/drive/MyDr 100%[===================>]  80.23M  3.24MB/s    in 18s     \n",
            "\n",
            "2023-11-28 04:52:30 (4.46 MB/s) - ‘/content/drive/MyDrive/aclImdb_v1.tar.gz’ saved [84125825/84125825]\n",
            "\n",
            "^C\n"
          ]
        }
      ],
      "source": [
        "from google.colab import drive\n",
        "import os\n",
        "\n",
        "# Check if Google Drive is mounted, and remount if needed\n",
        "if not os.path.exists('/content/drive/MyDrive'):\n",
        "    drive.mount('/content/drive', force_remount=True)\n",
        "\n",
        "# Navigating to a directory in your Google Drive\n",
        "%cd /content/drive/MyDrive/\n",
        "\n",
        "# Defining the dataset URL\n",
        "dataset_url = \"https://ai.stanford.edu/~amaas/data/sentiment/aclImdb_v1.tar.gz\"\n",
        "\n",
        "# Defining the destination path for the downloaded dataset\n",
        "download_path = \"/content/drive/MyDrive/aclImdb_v1.tar.gz\"\n",
        "\n",
        "# Downloading the dataset\n",
        "!wget $dataset_url -O $download_path\n",
        "\n",
        "# Extracting the dataset\n",
        "!tar -xf $download_path\n",
        "\n",
        "# Removing unnecessary directory\n",
        "!rm -r /content/drive/MyDrive/aclImdb/train/unsup\n"
      ]
    },
    {
      "cell_type": "code",
      "execution_count": 4,
      "metadata": {
        "colab": {
          "base_uri": "https://localhost:8080/"
        },
        "id": "8_3WYJo5qPy3",
        "outputId": "e1f01ebe-ad8a-464a-f298-975f5aea7e61"
      },
      "outputs": [
        {
          "output_type": "stream",
          "name": "stdout",
          "text": [
            "Found 4259 files belonging to 2 classes.\n",
            "Found 19762 files belonging to 2 classes.\n",
            "Found 26741 files belonging to 2 classes.\n"
          ]
        }
      ],
      "source": [
        "# Importing necessary libraries and modules\n",
        "import os, pathlib, shutil, random\n",
        "from tensorflow import keras\n",
        "\n",
        "# Defining batch size for data loading\n",
        "batch_size = 32\n",
        "\n",
        "# Setting up directory paths for training, validation, and testing data within the IMDB dataset\n",
        "base_dir = pathlib.Path(\"aclImdb\")\n",
        "val_dir = base_dir / \"val\"\n",
        "train_dir = base_dir / \"train\"\n",
        "\n",
        "# Organizing data for sentiment analysis: Creating validation sets\n",
        "for category in (\"neg\", \"pos\"):\n",
        "    # Creating subdirectories for validation data\n",
        "    os.makedirs(val_dir / category, exist_ok=True)\n",
        "\n",
        "    # Listing files in the training directory for the current sentiment category\n",
        "    files = os.listdir(train_dir / category)\n",
        "\n",
        "    # Shuffling the list of files with a fixed seed for reproducibility\n",
        "    random.Random(1234).shuffle(files)\n",
        "\n",
        "    # Calculating the number of validation samples (20% of the total files)\n",
        "    num_val_samples = int(0.2 * len(files))\n",
        "\n",
        "    # Selecting the last portion of the shuffled files as validation files\n",
        "    val_files = files[-num_val_samples:]\n",
        "\n",
        "    # Moving validation files from the training directory to the validation directory\n",
        "    for fname in val_files:\n",
        "        shutil.move(train_dir / category / fname,\n",
        "                    val_dir / category / fname)\n",
        "\n",
        "# Creating text datasets for training, validation, and testing using TensorFlow's text_dataset_from_directory\n",
        "train_ds = keras.utils.text_dataset_from_directory(\n",
        "    \"aclImdb/train\", batch_size=batch_size\n",
        ")\n",
        "val_ds = keras.utils.text_dataset_from_directory(\n",
        "    \"aclImdb/val\", batch_size=batch_size\n",
        ")\n",
        "test_ds = keras.utils.text_dataset_from_directory(\n",
        "    \"aclImdb/test\", batch_size=batch_size\n",
        ")\n",
        "\n",
        "# Creating a text-only training dataset by mapping the input data to include only the text (input feature) without labels (output/target)\n",
        "text_only_train_ds = train_ds.map(lambda x, y: x)\n"
      ]
    },
    {
      "cell_type": "code",
      "execution_count": 5,
      "metadata": {
        "id": "jlL0gVo-q2hL"
      },
      "outputs": [],
      "source": [
        "# Setting maximum length for sequences and maximum number of tokens\n",
        "max_length = 600\n",
        "max_tokens = 20000\n",
        "\n",
        "# Creating a TextVectorization layer with specified parameters\n",
        "text_vectorization = layers.TextVectorization(\n",
        "    max_tokens=max_tokens,\n",
        "    output_mode=\"int\",\n",
        "    output_sequence_length=max_length,\n",
        ")\n",
        "\n",
        "# Adapting the TextVectorization layer to the text-only training dataset\n",
        "text_vectorization.adapt(text_only_train_ds)\n",
        "\n",
        "# Mapping the input data in the training dataset to integer sequences\n",
        "int_train_ds = train_ds.map(\n",
        "    lambda x, y: (text_vectorization(x), y),\n",
        "    num_parallel_calls=4\n",
        ")\n",
        "\n",
        "# Mapping the input data in the validation dataset to integer sequences\n",
        "int_val_ds = val_ds.map(\n",
        "    lambda x, y: (text_vectorization(x), y),\n",
        "    num_parallel_calls=4\n",
        ")\n",
        "\n",
        "# Mapping the input data in the test dataset to integer sequences\n",
        "int_test_ds = test_ds.map(\n",
        "    lambda x, y: (text_vectorization(x), y),\n",
        "    num_parallel_calls=4\n",
        ")"
      ]
    },
    {
      "cell_type": "code",
      "execution_count": 6,
      "metadata": {
        "id": "kMVY47TBrAN3"
      },
      "outputs": [],
      "source": [
        "from keras.layers import Embedding\n",
        "\n",
        "# Creating an Embedding layer with 1000 input dimensions, embedding dimensionality of 64\n",
        "embedding_layer = Embedding(1000, 64)\n"
      ]
    },
    {
      "cell_type": "markdown",
      "metadata": {
        "id": "7wCrKY2Lvl5r"
      },
      "source": [
        "# Model 1\n",
        "\n",
        "## Action 1. Cut off reviews after 150 words"
      ]
    },
    {
      "cell_type": "code",
      "execution_count": 7,
      "metadata": {
        "colab": {
          "base_uri": "https://localhost:8080/"
        },
        "id": "_l6ELoe7vldl",
        "outputId": "84273595-5b4a-404a-d49d-71ce4746f11e"
      },
      "outputs": [
        {
          "output_type": "stream",
          "name": "stdout",
          "text": [
            "Downloading data from https://storage.googleapis.com/tensorflow/tf-keras-datasets/imdb.npz\n",
            "17464789/17464789 [==============================] - 0s 0us/step\n"
          ]
        }
      ],
      "source": [
        "# Number of words to consider as features\n",
        "max_features = 10000\n",
        "\n",
        "# Cutting texts after 150 words\n",
        "maxlen = 150\n",
        "\n",
        "# Loading the IMDB movie review dataset as lists of integers, limiting the vocabulary to the top 'max_features' words\n",
        "(x_train, y_train), (x_test, y_test) = imdb.load_data(num_words=max_features)\n",
        "\n",
        "# Pad sequences to ensure consistent length for input to a neural network\n",
        "# This is necessary because neural networks expect inputs of the same length\n",
        "x_train = pad_sequences(x_train, maxlen=maxlen)\n",
        "x_test = pad_sequences(x_test, maxlen=maxlen)\n"
      ]
    },
    {
      "cell_type": "markdown",
      "metadata": {
        "id": "gaXPUelSwDzS"
      },
      "source": [
        "### Initiating the training of a basic sequence model."
      ]
    },
    {
      "cell_type": "code",
      "execution_count": 8,
      "metadata": {
        "colab": {
          "base_uri": "https://localhost:8080/"
        },
        "id": "Q2jCmYOflITC",
        "outputId": "568f7cce-2932-4f57-a082-d0aea59f3581"
      },
      "outputs": [
        {
          "output_type": "stream",
          "name": "stdout",
          "text": [
            "Model: \"sequential\"\n",
            "_________________________________________________________________\n",
            " Layer (type)                Output Shape              Param #   \n",
            "=================================================================\n",
            " embedding_1 (Embedding)     (None, 150, 8)            80000     \n",
            "                                                                 \n",
            " flatten (Flatten)           (None, 1200)              0         \n",
            "                                                                 \n",
            " dense (Dense)               (None, 1)                 1201      \n",
            "                                                                 \n",
            "=================================================================\n",
            "Total params: 81,201\n",
            "Trainable params: 81,201\n",
            "Non-trainable params: 0\n",
            "_________________________________________________________________\n",
            "Epoch 1/10\n",
            "625/625 [==============================] - 2s 2ms/step - loss: 0.5978 - acc: 0.6969 - val_loss: 0.4315 - val_acc: 0.8190\n",
            "Epoch 2/10\n",
            "625/625 [==============================] - 1s 2ms/step - loss: 0.3320 - acc: 0.8650 - val_loss: 0.3203 - val_acc: 0.8648\n",
            "Epoch 3/10\n",
            "625/625 [==============================] - 1s 2ms/step - loss: 0.2589 - acc: 0.8942 - val_loss: 0.3024 - val_acc: 0.8720\n",
            "Epoch 4/10\n",
            "625/625 [==============================] - 1s 2ms/step - loss: 0.2252 - acc: 0.9113 - val_loss: 0.3010 - val_acc: 0.8720\n",
            "Epoch 5/10\n",
            "625/625 [==============================] - 1s 2ms/step - loss: 0.2019 - acc: 0.9230 - val_loss: 0.3004 - val_acc: 0.8748\n",
            "Epoch 6/10\n",
            "625/625 [==============================] - 1s 2ms/step - loss: 0.1825 - acc: 0.9319 - val_loss: 0.3108 - val_acc: 0.8734\n",
            "Epoch 7/10\n",
            "625/625 [==============================] - 1s 2ms/step - loss: 0.1657 - acc: 0.9398 - val_loss: 0.3195 - val_acc: 0.8708\n",
            "Epoch 8/10\n",
            "625/625 [==============================] - 1s 2ms/step - loss: 0.1495 - acc: 0.9470 - val_loss: 0.3266 - val_acc: 0.8676\n",
            "Epoch 9/10\n",
            "625/625 [==============================] - 1s 2ms/step - loss: 0.1336 - acc: 0.9538 - val_loss: 0.3391 - val_acc: 0.8688\n",
            "Epoch 10/10\n",
            "625/625 [==============================] - 1s 2ms/step - loss: 0.1177 - acc: 0.9605 - val_loss: 0.3476 - val_acc: 0.8642\n"
          ]
        }
      ],
      "source": [
        "# Importing necessary libraries\n",
        "from tensorflow.keras.models import Sequential\n",
        "from tensorflow.keras.layers import Embedding, Flatten, Dense\n",
        "\n",
        "# Creating a Sequential model\n",
        "model = Sequential()\n",
        "\n",
        "# Adding an Embedding layer with a vocabulary of 10,000, embedding dimension of 8, and input length of maxlen\n",
        "model.add(Embedding(input_dim=10000, output_dim=8, input_length=maxlen))\n",
        "\n",
        "# Flattening the embedded inputs to a 2D tensor\n",
        "model.add(Flatten())\n",
        "\n",
        "# Adding a binary classifier on top\n",
        "model.add(Dense(units=1, activation='sigmoid'))\n",
        "\n",
        "# Compiling the model with RMSprop optimizer and binary cross-entropy loss\n",
        "model.compile(optimizer='rmsprop', loss='binary_crossentropy', metrics=['acc'])\n",
        "\n",
        "# Displaying the model summary\n",
        "model.summary()\n",
        "\n",
        "# Training the model and storing the training history\n",
        "Model_1 = model.fit(x_train, y_train, epochs=10, batch_size=32, validation_split=0.2)\n"
      ]
    },
    {
      "cell_type": "markdown",
      "metadata": {
        "id": "sE8eBwkkwr89"
      },
      "source": [
        "#### Extracting and Visualizing Training History"
      ]
    },
    {
      "cell_type": "code",
      "execution_count": 9,
      "metadata": {
        "colab": {
          "base_uri": "https://localhost:8080/",
          "height": 927
        },
        "id": "wPzCrqH_wmfG",
        "outputId": "55fa5c92-bee3-4089-9839-436f9d6bf978"
      },
      "outputs": [
        {
          "output_type": "display_data",
          "data": {
            "text/plain": [
              "<Figure size 640x480 with 1 Axes>"
            ],
            "image/png": "[encoded data removed]"
          },
          "metadata": {}
        },
        {
          "output_type": "display_data",
          "data": {
            "text/plain": [
              "<Figure size 640x480 with 1 Axes>"
            ],
            "image/png": "[encoded data removed]"
          },
          "metadata": {}
        }
      ],
      "source": [
        "import matplotlib.pyplot as plt\n",
        "\n",
        "# Extracting accuracy, validation accuracy, loss, and validation loss from the training history\n",
        "accuracy = Model_1.history['acc']\n",
        "val_accuracy = Model_1.history['val_acc']\n",
        "loss = Model_1.history['loss']\n",
        "val_loss = Model_1.history['val_loss']\n",
        "\n",
        "# Generating a range of epochs for x-axis\n",
        "epochs = range(1, len(accuracy) + 1)\n",
        "\n",
        "# Plotting training and validation accuracy\n",
        "plt.plot(epochs, accuracy, 'red', label='Training accuracy')\n",
        "plt.plot(epochs, val_accuracy, 'blue', label='Validation accuracy')\n",
        "plt.title('Training and Validation Accuracy')\n",
        "plt.xlabel('Epochs')\n",
        "plt.ylabel('Accuracy')\n",
        "plt.legend()\n",
        "\n",
        "# Displaying a new figure for the loss plots\n",
        "plt.figure()\n",
        "\n",
        "# Plotting training and validation loss\n",
        "plt.plot(epochs, loss, 'green', label='Training loss')\n",
        "plt.plot(epochs, val_loss, 'orange', label='Validation loss')\n",
        "plt.title('Training and Validation Loss')\n",
        "plt.xlabel('Epochs')\n",
        "plt.ylabel('Loss')\n",
        "plt.legend()\n",
        "\n",
        "# Displaying the plots\n",
        "plt.show()\n"
      ]
    },
    {
      "cell_type": "code",
      "execution_count": 10,
      "metadata": {
        "colab": {
          "base_uri": "https://localhost:8080/"
        },
        "id": "U2QUJ2hzxDRv",
        "outputId": "591fca9f-b410-4ad3-cce7-55b36413dd64"
      },
      "outputs": [
        {
          "output_type": "stream",
          "name": "stdout",
          "text": [
            "782/782 [==============================] - 1s 1ms/step - loss: 0.3483 - acc: 0.8659\n",
            "Test loss: 0.34829801321029663\n",
            "Test accuracy: 0.8659200072288513\n"
          ]
        }
      ],
      "source": [
        "# Evaluating the trained model on the test dataset\n",
        "test_loss, test_acc = model.evaluate(x_test, y_test)\n",
        "\n",
        "# Printing the test loss and accuracy\n",
        "print('Test loss:', test_loss)\n",
        "print('Test accuracy:', test_acc)\n"
      ]
    },
    {
      "cell_type": "markdown",
      "metadata": {
        "id": "Y4fD4Q60xmLh"
      },
      "source": [
        "# Model 2: Embedding layers with training samples = 100\n"
      ]
    },
    {
      "cell_type": "code",
      "execution_count": 11,
      "metadata": {
        "id": "XsJlkYNrxJvj"
      },
      "outputs": [],
      "source": [
        "max_features = 10000\n",
        "maxlen = 150\n",
        "\n",
        "# Loading the IMDB movie review dataset with a specified vocabulary size\n",
        "(x_train, y_train), (x_test, y_test) = imdb.load_data(num_words=max_features)\n",
        "\n",
        "# Padding sequences to ensure consistent length\n",
        "x_train = pad_sequences(x_train, maxlen=maxlen)\n",
        "x_test = pad_sequences(x_test, maxlen=maxlen)\n",
        "\n",
        "# Concatenating text sequences (x_train and x_test) and labels (y_train and y_test)\n",
        "texts = np.concatenate((x_train, x_test), axis=0)\n",
        "labels = np.concatenate((y_train, y_test), axis=0)\n",
        "\n",
        "# Selecting a subset of the training data (first 100 samples)\n",
        "x_train = x_train[:100]\n",
        "y_train = y_train[:100]\n"
      ]
    },
    {
      "cell_type": "code",
      "execution_count": 31,
      "metadata": {
        "colab": {
          "base_uri": "https://localhost:8080/"
        },
        "id": "n_REh9a5xnrU",
        "outputId": "bac05add-3b65-40e2-f9fa-02facf49249d"
      },
      "outputs": [
        {
          "output_type": "stream",
          "name": "stdout",
          "text": [
            "Model: \"sequential_4\"\n",
            "_________________________________________________________________\n",
            " Layer (type)                Output Shape              Param #   \n",
            "=================================================================\n",
            " embedding_5 (Embedding)     (None, 150, 8)            80000     \n",
            "                                                                 \n",
            " flatten_3 (Flatten)         (None, 1200)              0         \n",
            "                                                                 \n",
            " dense_5 (Dense)             (None, 1)                 1201      \n",
            "                                                                 \n",
            "=================================================================\n",
            "Total params: 81,201\n",
            "Trainable params: 81,201\n",
            "Non-trainable params: 0\n",
            "_________________________________________________________________\n",
            "Epoch 1/10\n",
            "3/3 [==============================] - 1s 76ms/step - loss: 0.6895 - acc: 0.5375 - val_loss: 0.6934 - val_acc: 0.5500\n",
            "Epoch 2/10\n",
            "3/3 [==============================] - 0s 15ms/step - loss: 0.6659 - acc: 0.8750 - val_loss: 0.6917 - val_acc: 0.6000\n",
            "Epoch 3/10\n",
            "3/3 [==============================] - 0s 14ms/step - loss: 0.6481 - acc: 0.9875 - val_loss: 0.6905 - val_acc: 0.6000\n",
            "Epoch 4/10\n",
            "3/3 [==============================] - 0s 15ms/step - loss: 0.6319 - acc: 1.0000 - val_loss: 0.6890 - val_acc: 0.6000\n",
            "Epoch 5/10\n",
            "3/3 [==============================] - 0s 15ms/step - loss: 0.6167 - acc: 1.0000 - val_loss: 0.6872 - val_acc: 0.6000\n",
            "Epoch 6/10\n",
            "3/3 [==============================] - 0s 15ms/step - loss: 0.6011 - acc: 1.0000 - val_loss: 0.6853 - val_acc: 0.6000\n",
            "Epoch 7/10\n",
            "3/3 [==============================] - 0s 15ms/step - loss: 0.5853 - acc: 1.0000 - val_loss: 0.6834 - val_acc: 0.6000\n",
            "Epoch 8/10\n",
            "3/3 [==============================] - 0s 15ms/step - loss: 0.5694 - acc: 1.0000 - val_loss: 0.6815 - val_acc: 0.6000\n",
            "Epoch 9/10\n",
            "3/3 [==============================] - 0s 15ms/step - loss: 0.5529 - acc: 1.0000 - val_loss: 0.6806 - val_acc: 0.6000\n",
            "Epoch 10/10\n",
            "3/3 [==============================] - 0s 14ms/step - loss: 0.5362 - acc: 1.0000 - val_loss: 0.6792 - val_acc: 0.6000\n"
          ]
        }
      ],
      "source": [
        "# Creating a Sequential model\n",
        "model = Sequential()\n",
        "\n",
        "# Adding an Embedding layer with input_dim=10000 (vocabulary size), output_dim=8 (embedding dimension), and input_length=maxlen\n",
        "model.add(Embedding(10000, 8, input_length=maxlen))\n",
        "\n",
        "# Flattening the 3D tensor of embeddings into a 2D tensor\n",
        "model.add(Flatten())\n",
        "\n",
        "# Adding a Dense layer with 1 unit and sigmoid activation for binary classification\n",
        "model.add(Dense(1, activation='sigmoid'))\n",
        "\n",
        "# Compiling the model with rmsprop optimizer and binary crossentropy loss\n",
        "model.compile(optimizer='rmsprop', loss='binary_crossentropy', metrics=['acc'])\n",
        "\n",
        "# Displaying the model summary\n",
        "model.summary()\n",
        "\n",
        "# Training the model on the subset of the training data\n",
        "Model_2 = model.fit(x_train, y_train,\n",
        "                       epochs=10,\n",
        "                    batch_size=32,\n",
        "                    validation_split=0.2)"
      ]
    },
    {
      "cell_type": "markdown",
      "metadata": {
        "id": "y9lt7Udsx__Y"
      },
      "source": [
        "Extracting and Visualizing Training History"
      ]
    },
    {
      "cell_type": "code",
      "execution_count": 32,
      "metadata": {
        "colab": {
          "base_uri": "https://localhost:8080/",
          "height": 927
        },
        "id": "_cKPgdERxtft",
        "outputId": "03b6b08c-4836-4aa2-d980-6e17a58e0ae5"
      },
      "outputs": [
        {
          "output_type": "display_data",
          "data": {
            "text/plain": [
              "<Figure size 640x480 with 1 Axes>"
            ],
            "image/png": "[encoded data removed]"
          },
          "metadata": {}
        },
        {
          "output_type": "display_data",
          "data": {
            "text/plain": [
              "<Figure size 640x480 with 1 Axes>"
            ],
            "image/png": "[encoded data removed]"
          },
          "metadata": {}
        }
      ],
      "source": [
        "import matplotlib.pyplot as plt\n",
        "\n",
        "# Extracting accuracy, validation accuracy, loss, and validation loss from the training history\n",
        "accuracy = Model_2.history['acc']\n",
        "val_accuracy = Model_2.history['val_acc']\n",
        "loss = Model_2.history['loss']\n",
        "val_loss = Model_2.history['val_loss']\n",
        "\n",
        "# Generating a range of epochs for x-axis\n",
        "epochs = range(1, len(accuracy) + 1)\n",
        "\n",
        "# Plotting training and validation accuracy\n",
        "plt.plot(epochs, accuracy, 'red', label='Training accuracy')\n",
        "plt.plot(epochs, val_accuracy, 'blue', label='Validation accuracy')\n",
        "plt.title('Training and Validation Accuracy')\n",
        "plt.xlabel('Epochs')\n",
        "plt.ylabel('Accuracy')\n",
        "plt.legend()\n",
        "\n",
        "# Displaying a new figure for the loss plots\n",
        "plt.figure()\n",
        "\n",
        "# Plotting training and validation loss\n",
        "plt.plot(epochs, loss, 'green', label='Training loss')\n",
        "plt.plot(epochs, val_loss, 'orange', label='Validation loss')\n",
        "plt.title('Training and Validation Loss')\n",
        "plt.xlabel('Epochs')\n",
        "plt.ylabel('Loss')\n",
        "plt.legend()\n",
        "\n",
        "# Displaying the plots\n",
        "plt.show()\n"
      ]
    },
    {
      "cell_type": "code",
      "execution_count": 14,
      "metadata": {
        "colab": {
          "base_uri": "https://localhost:8080/"
        },
        "id": "tDQKXDaeyFIF",
        "outputId": "b3583c87-e7c4-4e0d-afcb-cc3cc4b685ed"
      },
      "outputs": [
        {
          "output_type": "stream",
          "name": "stdout",
          "text": [
            "782/782 [==============================] - 1s 1ms/step - loss: 0.6938 - acc: 0.5019\n",
            "Test loss: 0.69383305311203\n",
            "Test accuracy: 0.5019199848175049\n"
          ]
        }
      ],
      "source": [
        "# Evaluating the trained model on the test dataset\n",
        "test_loss, test_acc = model.evaluate(x_test, y_test)\n",
        "\n",
        "# Printing the test loss and accuracy\n",
        "print('Test loss:', test_loss)\n",
        "print('Test accuracy:', test_acc)\n"
      ]
    },
    {
      "cell_type": "markdown",
      "metadata": {
        "id": "jD407WMUyM2g"
      },
      "source": [
        "# Action 5. Using Bi-directional layers\n",
        "\n",
        "#### will be using Action 3 & 4 below"
      ]
    },
    {
      "cell_type": "markdown",
      "metadata": {
        "id": "0NCz0VGYydNL"
      },
      "source": [
        "Download the IMDB data as raw text -"
      ]
    },
    {
      "cell_type": "code",
      "execution_count": 15,
      "metadata": {
        "colab": {
          "base_uri": "https://localhost:8080/"
        },
        "id": "ZbixQI36yfaL",
        "outputId": "8fac9a73-1ac1-42e2-ef65-cd18cb4229aa"
      },
      "outputs": [
        {
          "output_type": "stream",
          "name": "stdout",
          "text": [
            "Mounted at /content/drive\n"
          ]
        }
      ],
      "source": [
        "from google.colab import drive\n",
        "drive.mount(\"/content/drive\", force_remount=True)"
      ]
    },
    {
      "cell_type": "code",
      "execution_count": 16,
      "metadata": {
        "id": "n_BpWLtaysYl"
      },
      "outputs": [],
      "source": [
        "import os\n",
        "\n",
        "# Change the current working directory\n",
        "os.chdir(\"/content/drive/MyDrive\")"
      ]
    },
    {
      "cell_type": "code",
      "execution_count": 17,
      "metadata": {
        "colab": {
          "base_uri": "https://localhost:8080/"
        },
        "id": "60deo9beyurZ",
        "outputId": "e810e2e3-674f-442d-c4c0-f083b67747be"
      },
      "outputs": [
        {
          "output_type": "stream",
          "name": "stdout",
          "text": [
            "  % Total    % Received % Xferd  Average Speed   Time    Time     Time  Current\n",
            "                                 Dload  Upload   Total   Spent    Left  Speed\n",
            "100 80.2M  100 80.2M    0     0  11.5M      0  0:00:06  0:00:06 --:--:-- 16.2M\n",
            "^C\n"
          ]
        }
      ],
      "source": [
        "# Downloading the IMDB sentiment analysis dataset and extracting the contents\n",
        "!curl -O https://ai.stanford.edu/~amaas/data/sentiment/aclImdb_v1.tar.gz\n",
        "!tar -xf aclImdb_v1.tar.gz\n",
        "\n",
        "# Removing the 'unsup' directory from the training data\n",
        "!rm -r aclImdb/train/unsup"
      ]
    },
    {
      "cell_type": "code",
      "execution_count": 18,
      "metadata": {
        "id": "LUGhvyULy4Ij"
      },
      "outputs": [],
      "source": [
        "# Setting the directory path for the IMDB dataset or related files\n",
        "imdb_dir = '/content/drive/MyDrive'"
      ]
    },
    {
      "cell_type": "code",
      "execution_count": 19,
      "metadata": {
        "id": "j_GDqU2n0WBx"
      },
      "outputs": [],
      "source": [
        "# Creating the complete path for the training directory within the IMDB dataset\n",
        "train_dir = os.path.join(imdb_dir, 'train')"
      ]
    },
    {
      "cell_type": "code",
      "execution_count": 20,
      "metadata": {
        "id": "yjJZ7jJ_0e8n"
      },
      "outputs": [],
      "source": [
        "# Initializing empty lists for labels and texts\n",
        "labels = []\n",
        "texts = []"
      ]
    },
    {
      "cell_type": "code",
      "execution_count": 21,
      "metadata": {
        "id": "0rkOtYth0lul"
      },
      "outputs": [],
      "source": [
        "# Looping through negative and positive label types in the training directory\n",
        "for label_type in ['/content/drive/MyDrive/aclImdb/train/neg', '/content/drive/MyDrive/aclImdb/train/pos']:\n",
        "    # Creating the complete directory path\n",
        "    dir_name = os.path.join(train_dir, label_type)\n",
        "\n",
        "    # Iterating through files in the directory\n",
        "    for fname in os.listdir(dir_name):\n",
        "        # Checking if the file is a text file\n",
        "        if fname[-4:] == '.txt':\n",
        "            # Opening and reading the contents of the text file\n",
        "            f = open(os.path.join(dir_name, fname))\n",
        "            texts.append(f.read())\n",
        "            f.close()\n",
        "\n",
        "            # Assigning labels based on the directory type\n",
        "            if label_type == '/content/drive/MyDrive/aclImdb/train/neg':\n",
        "                labels.append(0)\n",
        "            else:\n",
        "                labels.append(1)\n"
      ]
    },
    {
      "cell_type": "markdown",
      "metadata": {
        "id": "skjqQSMp0q0b"
      },
      "source": [
        "#  Model 3: Tokenizing the data\n",
        "# Action 3: On 1000 samples\n",
        "# Action 4: Considering only top 10000 samples\n",
        "\n"
      ]
    },
    {
      "cell_type": "code",
      "execution_count": 22,
      "metadata": {
        "colab": {
          "base_uri": "https://localhost:8080/"
        },
        "id": "wXr8QC8S08_L",
        "outputId": "3fdceab7-7d97-46d4-8bd4-7e49a6e65d00"
      },
      "outputs": [
        {
          "output_type": "stream",
          "name": "stdout",
          "text": [
            "Found 39408 unique tokens.\n",
            "Shape of data tensor: (4259, 150)\n",
            "Shape of label tensor: (4259,)\n"
          ]
        }
      ],
      "source": [
        "# Defining parameters for tokenization and padding\n",
        "maxlen = 150\n",
        "training_samples = 100\n",
        "validation_samples = 10000\n",
        "max_words = 10000\n",
        "\n",
        "# Tokenizing the text data\n",
        "tokenizer = Tokenizer(num_words=max_words)\n",
        "tokenizer.fit_on_texts(texts)\n",
        "sequences = tokenizer.texts_to_sequences(texts)\n",
        "\n",
        "# Extracting the word index and printing the number of unique tokens\n",
        "word_index = tokenizer.word_index\n",
        "print('Found %s unique tokens.' % len(word_index))\n",
        "\n",
        "# Padding sequences to ensure consistent length\n",
        "data = pad_sequences(sequences, maxlen=maxlen)\n",
        "\n",
        "# Converting labels to a numpy array\n",
        "labels = np.asarray(labels)\n",
        "print('Shape of data tensor:', data.shape)\n",
        "print('Shape of label tensor:', labels.shape)\n",
        "\n",
        "# Shuffling the data\n",
        "indices = np.arange(data.shape[0])\n",
        "np.random.shuffle(indices)\n",
        "data = data[indices]\n",
        "labels = labels[indices]\n",
        "\n",
        "# Splitting the data into training and validation sets\n",
        "x_train = data[:training_samples]\n",
        "y_train = labels[:training_samples]\n",
        "x_val = data[training_samples: training_samples + validation_samples]\n",
        "y_val = labels[training_samples: training_samples + validation_samples]\n"
      ]
    },
    {
      "cell_type": "markdown",
      "metadata": {
        "id": "MRyL_xOI1Hst"
      },
      "source": [
        "# Model 3 - Used Glove word embeddings"
      ]
    },
    {
      "cell_type": "markdown",
      "metadata": {
        "id": "g8ABrhHl1USD"
      },
      "source": [
        "Pre-Processing the embeddings"
      ]
    },
    {
      "cell_type": "code",
      "execution_count": 23,
      "metadata": {
        "colab": {
          "base_uri": "https://localhost:8080/"
        },
        "id": "r_kn5bq021MR",
        "outputId": "f6880dcb-f111-4ab4-e9d9-8e8ad029dae2"
      },
      "outputs": [
        {
          "output_type": "stream",
          "name": "stdout",
          "text": [
            "Mounted at /content/drive\n"
          ]
        }
      ],
      "source": [
        "from google.colab import drive\n",
        "drive.mount(\"/content/drive\", force_remount=True)"
      ]
    },
    {
      "cell_type": "code",
      "execution_count": 24,
      "metadata": {
        "colab": {
          "base_uri": "https://localhost:8080/"
        },
        "id": "Linr74n6mqJq",
        "outputId": "52bea60b-24a5-42a7-979c-534472b2ba65"
      },
      "outputs": [
        {
          "output_type": "stream",
          "name": "stdout",
          "text": [
            "Found 400000 word vectors.\n"
          ]
        }
      ],
      "source": [
        "# Setting the directory path for the GloVe embeddings\n",
        "glove_dir = '/content/drive/MyDrive/glove.6B/glove'\n",
        "\n",
        "# Importing necessary libraries\n",
        "import re, os\n",
        "import numpy as np\n",
        "\n",
        "# Initializing a dictionary to store word embeddings\n",
        "embeddings_index = {}\n",
        "\n",
        "# Opening and reading the GloVe embedding file\n",
        "f = open(os.path.join(glove_dir, '/content/drive/MyDrive/glove.6B/glove/glove.6B.100d.txt'))\n",
        "\n",
        "# Parsing each line in the file to extract word and corresponding coefficients\n",
        "for line in f:\n",
        "    values = line.split()\n",
        "    word = values[0]\n",
        "    coefs = np.asarray(values[1:], dtype='float32')\n",
        "    embeddings_index[word] = coefs\n",
        "\n",
        "# Closing the file after extracting word vectors\n",
        "f.close()\n",
        "\n",
        "# Displaying the number of word vectors found\n",
        "print('Found %s word vectors.' % len(embeddings_index))\n"
      ]
    },
    {
      "cell_type": "code",
      "execution_count": 25,
      "metadata": {
        "id": "jEgifpJ4pO_R"
      },
      "outputs": [],
      "source": [
        "embedding_dim = 100 # Defining the dimensionality of word embeddings\n",
        "\n",
        "embedding_matrix = np.zeros((max_words, embedding_dim)) # Initializing the embedding matrix with zeros\n",
        "word_index = tokenizer.word_index\n",
        "for word, i in word_index.items():\n",
        "    embedding_vector = embeddings_index.get(word)\n",
        "    if i < max_words:\n",
        "        if embedding_vector is not None: # Checking if an embedding vector is available for the word\n",
        "           ## Setting the embedding vector in the matrix\n",
        "           #consider the no text as Zero\n",
        "            embedding_matrix[i] = embedding_vector"
      ]
    },
    {
      "cell_type": "markdown",
      "metadata": {
        "id": "tbg_zSCFYyob"
      },
      "source": [
        "### Building the model"
      ]
    },
    {
      "cell_type": "code",
      "execution_count": 26,
      "metadata": {
        "colab": {
          "base_uri": "https://localhost:8080/"
        },
        "id": "K0bSc9mbTtMq",
        "outputId": "db23c542-51ac-4d2e-9e18-9053f69c9073"
      },
      "outputs": [
        {
          "output_type": "stream",
          "name": "stdout",
          "text": [
            "Model: \"sequential_2\"\n",
            "_________________________________________________________________\n",
            " Layer (type)                Output Shape              Param #   \n",
            "=================================================================\n",
            " embedding_3 (Embedding)     (None, 150, 100)          1000000   \n",
            "                                                                 \n",
            " dense_2 (Dense)             (None, 150, 32)           3232      \n",
            "                                                                 \n",
            " dense_3 (Dense)             (None, 150, 1)            33        \n",
            "                                                                 \n",
            "=================================================================\n",
            "Total params: 1,003,265\n",
            "Trainable params: 1,003,265\n",
            "Non-trainable params: 0\n",
            "_________________________________________________________________\n"
          ]
        }
      ],
      "source": [
        "from keras.models import Sequential\n",
        "from keras.layers import Embedding, Flatten, Dense\n",
        "\n",
        "model = Sequential()\n",
        "model.add(Embedding(max_words, embedding_dim, input_length=maxlen))\n",
        "model.add(Dense(32, activation='relu'))\n",
        "model.add(Dense(1, activation='sigmoid'))\n",
        "model.summary()"
      ]
    },
    {
      "cell_type": "markdown",
      "metadata": {
        "id": "nSkfCQaMIhkq"
      },
      "source": [
        "### Incorporating GloVe embeddings into the model."
      ]
    },
    {
      "cell_type": "code",
      "execution_count": 27,
      "metadata": {
        "id": "sir1imCXGhPa"
      },
      "outputs": [],
      "source": [
        "model.layers[0].set_weights([embedding_matrix])\n",
        "model.layers[0].trainable = False"
      ]
    },
    {
      "cell_type": "code",
      "execution_count": 28,
      "metadata": {
        "colab": {
          "base_uri": "https://localhost:8080/"
        },
        "id": "_dmAbzL5Hi8q",
        "outputId": "64001962-4836-40af-e8cd-35565d5bab51"
      },
      "outputs": [
        {
          "output_type": "stream",
          "name": "stdout",
          "text": [
            "Training data shape: (100,)\n"
          ]
        }
      ],
      "source": [
        "print(\"Training data shape:\", y_train.shape)"
      ]
    },
    {
      "cell_type": "code",
      "source": [
        "model.compile(optimizer='rmsprop',\n",
        "              loss='binary_crossentropy',\n",
        "              metrics=['acc'])\n",
        "model_3 = model.fit(x_train, y_train,\n",
        "                    epochs=10,\n",
        "                    batch_size=32,\n",
        "                    validation_data=(x_val, y_val))"
      ],
      "metadata": {
        "colab": {
          "base_uri": "https://localhost:8080/"
        },
        "id": "D8wIGgr_TrF7",
        "outputId": "293feb46-83c0-4aa7-9e6b-937e61f66140"
      },
      "execution_count": 33,
      "outputs": [
        {
          "output_type": "stream",
          "name": "stdout",
          "text": [
            "Epoch 1/10\n",
            "4/4 [==============================] - 1s 91ms/step - loss: 0.5482 - acc: 0.9200 - val_loss: 0.6888 - val_acc: 0.5583\n",
            "Epoch 2/10\n",
            "4/4 [==============================] - 0s 52ms/step - loss: 0.5133 - acc: 0.9800 - val_loss: 0.6901 - val_acc: 0.5501\n",
            "Epoch 3/10\n",
            "4/4 [==============================] - 0s 51ms/step - loss: 0.4885 - acc: 0.9900 - val_loss: 0.6922 - val_acc: 0.5472\n",
            "Epoch 4/10\n",
            "4/4 [==============================] - 0s 52ms/step - loss: 0.4670 - acc: 1.0000 - val_loss: 0.6925 - val_acc: 0.5470\n",
            "Epoch 5/10\n",
            "4/4 [==============================] - 0s 52ms/step - loss: 0.4473 - acc: 1.0000 - val_loss: 0.6932 - val_acc: 0.5446\n",
            "Epoch 6/10\n",
            "4/4 [==============================] - 0s 54ms/step - loss: 0.4287 - acc: 1.0000 - val_loss: 0.6934 - val_acc: 0.5468\n",
            "Epoch 7/10\n",
            "4/4 [==============================] - 0s 51ms/step - loss: 0.4105 - acc: 1.0000 - val_loss: 0.6935 - val_acc: 0.5472\n",
            "Epoch 8/10\n",
            "4/4 [==============================] - 0s 50ms/step - loss: 0.3921 - acc: 1.0000 - val_loss: 0.6910 - val_acc: 0.5578\n",
            "Epoch 9/10\n",
            "4/4 [==============================] - 0s 52ms/step - loss: 0.3746 - acc: 1.0000 - val_loss: 0.6911 - val_acc: 0.5578\n",
            "Epoch 10/10\n",
            "4/4 [==============================] - 0s 51ms/step - loss: 0.3575 - acc: 1.0000 - val_loss: 0.6925 - val_acc: 0.5554\n"
          ]
        }
      ]
    },
    {
      "cell_type": "code",
      "source": [
        "model.save_weights('/content/drive/MyDrive/pre_trained_glove_model.h5')"
      ],
      "metadata": {
        "id": "vRA6-uIyUUpY"
      },
      "execution_count": 34,
      "outputs": []
    },
    {
      "cell_type": "code",
      "execution_count": 36,
      "metadata": {
        "colab": {
          "base_uri": "https://localhost:8080/",
          "height": 887
        },
        "id": "1UhOs1ZQD_8j",
        "outputId": "f684cc83-c594-4099-91d9-d295b54d891d"
      },
      "outputs": [
        {
          "output_type": "display_data",
          "data": {
            "text/plain": [
              "<Figure size 640x480 with 1 Axes>"
            ],
            "image/png": "[encoded data removed]"
          },
          "metadata": {}
        },
        {
          "output_type": "display_data",
          "data": {
            "text/plain": [
              "<Figure size 640x480 with 1 Axes>"
            ],
            "image/png": "[encoded data removed]"
          },
          "metadata": {}
        }
      ],
      "source": [
        "import matplotlib.pyplot as plt\n",
        "\n",
        "acc = model_3.history['acc']\n",
        "val_acc = model_3.history['val_acc']\n",
        "loss = model_3.history['loss']\n",
        "val_loss = model_3.history['val_loss']\n",
        "\n",
        "epochs = range(1, len(acc) + 1)\n",
        "\n",
        "plt.plot(epochs, acc, 'red', label='Training acc')\n",
        "plt.plot(epochs, val_acc, 'blue', label='Validation acc')\n",
        "plt.title('Training and validation accuracy')\n",
        "plt.legend()\n",
        "\n",
        "plt.figure()\n",
        "\n",
        "plt.plot(epochs, loss, 'green', label='Training loss')\n",
        "plt.plot(epochs, val_loss, 'orange', label='Validation loss')\n",
        "plt.title('Training and validation loss')\n",
        "plt.legend()\n",
        "\n",
        "plt.show()\n"
      ]
    },
    {
      "cell_type": "code",
      "execution_count": 37,
      "metadata": {
        "id": "OYsCY6u9cwDi"
      },
      "outputs": [],
      "source": [
        "# Specify the path to the test directory\n",
        "test_dir = os.path.join(imdb_dir, '/content/drive/MyDrive/aclImdb/test')\n",
        "\n",
        "# Initialize empty lists to store labels and texts\n",
        "labels = []\n",
        "texts = []\n",
        "\n",
        "# Iterating through each label type (neg and pos) in the test directory\n",
        "for label_type in ['/content/drive/MyDrive/aclImdb/train/neg', '/content/drive/MyDrive/aclImdb/train/pos']:\n",
        "    # Creating the directory path for the current label type\n",
        "    dir_name = os.path.join(test_dir, label_type)\n",
        "\n",
        "    # Iterating through each file in the sorted list of files in the current directory\n",
        "    for fname in sorted(os.listdir(dir_name)):\n",
        "        # Checking if the file has a '.txt' extension\n",
        "        if fname[-4:] == '.txt':\n",
        "            # Opening the file, reading its content, and appending it to the 'texts' list\n",
        "            f = open(os.path.join(dir_name, fname))\n",
        "            texts.append(f.read())\n",
        "            f.close()\n",
        "\n",
        "            # Assigning label 0 for 'neg' and label 1 for 'pos'\n",
        "            if label_type == 'neg':\n",
        "                labels.append(0)\n",
        "            else:\n",
        "                labels.append(1)\n",
        "\n",
        "# Converting texts to sequences and padding them to the specified maxlen\n",
        "sequences = tokenizer.texts_to_sequences(texts)\n",
        "x_test = pad_sequences(sequences, maxlen=maxlen)\n",
        "\n",
        "# Converting the labels list to a NumPy array\n",
        "y_test = np.asarray(labels)\n"
      ]
    },
    {
      "cell_type": "markdown",
      "metadata": {
        "id": "WeNFr39qdu9C"
      },
      "source": [
        "### Evaluate the model"
      ]
    },
    {
      "cell_type": "code",
      "execution_count": 38,
      "metadata": {
        "id": "4x6X8arEE8US",
        "colab": {
          "base_uri": "https://localhost:8080/"
        },
        "outputId": "5b2b378a-250a-4fbb-fdc5-e887510bbba5"
      },
      "outputs": [
        {
          "output_type": "stream",
          "name": "stdout",
          "text": [
            "134/134 [==============================] - 0s 1ms/step - loss: 0.7090 - acc: 0.3574\n"
          ]
        },
        {
          "output_type": "execute_result",
          "data": {
            "text/plain": [
              "[0.7090311646461487, 0.3573608696460724]"
            ]
          },
          "metadata": {},
          "execution_count": 38
        }
      ],
      "source": [
        "model.load_weights('/content/drive/MyDrive/pre_trained_glove_model.h5')\n",
        "model.evaluate(x_test, y_test)"
      ]
    },
    {
      "cell_type": "markdown",
      "metadata": {
        "id": "skLoy0L4exx1"
      },
      "source": [
        "# Model 4 - Enhancing model performance through evaluation with varying training sample sizes."
      ]
    },
    {
      "cell_type": "code",
      "execution_count": 39,
      "metadata": {
        "id": "-7UoV91_e0jY"
      },
      "outputs": [],
      "source": [
        "max_features = 10000\n",
        "maxlen = 150\n",
        "(x_train, y_train), (x_test, y_test) = imdb.load_data(num_words=max_features)\n",
        "\n",
        "x_train = pad_sequences(x_train, maxlen=maxlen)\n",
        "x_test = pad_sequences(x_test, maxlen=maxlen)\n",
        "\n",
        "# Separating texts and labels\n",
        "texts = np.concatenate((x_train, x_test), axis=0)\n",
        "labels = np.concatenate((y_train, y_test), axis=0)\n",
        "\n",
        "# Selecting a subset of data\n",
        "x_train = x_train[:1000]\n",
        "y_train = y_train[:1000]"
      ]
    },
    {
      "cell_type": "code",
      "execution_count": 42,
      "metadata": {
        "colab": {
          "base_uri": "https://localhost:8080/"
        },
        "id": "aIXBPX4ofK-4",
        "outputId": "5641db65-b819-4d71-b732-ed0fc48f0df9"
      },
      "outputs": [
        {
          "output_type": "stream",
          "name": "stdout",
          "text": [
            "Model: \"sequential_6\"\n",
            "_________________________________________________________________\n",
            " Layer (type)                Output Shape              Param #   \n",
            "=================================================================\n",
            " embedding_7 (Embedding)     (None, 150, 8)            80000     \n",
            "                                                                 \n",
            " flatten_5 (Flatten)         (None, 1200)              0         \n",
            "                                                                 \n",
            " dense_7 (Dense)             (None, 1)                 1201      \n",
            "                                                                 \n",
            "=================================================================\n",
            "Total params: 81,201\n",
            "Trainable params: 81,201\n",
            "Non-trainable params: 0\n",
            "_________________________________________________________________\n",
            "Epoch 1/10\n",
            "25/25 [==============================] - 1s 8ms/step - loss: 0.6944 - acc: 0.4900 - val_loss: 0.6890 - val_acc: 0.5750\n",
            "Epoch 2/10\n",
            "25/25 [==============================] - 0s 3ms/step - loss: 0.6782 - acc: 0.7412 - val_loss: 0.6882 - val_acc: 0.5650\n",
            "Epoch 3/10\n",
            "25/25 [==============================] - 0s 3ms/step - loss: 0.6622 - acc: 0.8825 - val_loss: 0.6870 - val_acc: 0.5800\n",
            "Epoch 4/10\n",
            "25/25 [==============================] - 0s 3ms/step - loss: 0.6421 - acc: 0.9287 - val_loss: 0.6854 - val_acc: 0.5850\n",
            "Epoch 5/10\n",
            "25/25 [==============================] - 0s 3ms/step - loss: 0.6172 - acc: 0.9413 - val_loss: 0.6835 - val_acc: 0.5650\n",
            "Epoch 6/10\n",
            "25/25 [==============================] - 0s 3ms/step - loss: 0.5869 - acc: 0.9600 - val_loss: 0.6810 - val_acc: 0.5700\n",
            "Epoch 7/10\n",
            "25/25 [==============================] - 0s 3ms/step - loss: 0.5518 - acc: 0.9638 - val_loss: 0.6783 - val_acc: 0.5850\n",
            "Epoch 8/10\n",
            "25/25 [==============================] - 0s 3ms/step - loss: 0.5119 - acc: 0.9650 - val_loss: 0.6753 - val_acc: 0.5800\n",
            "Epoch 9/10\n",
            "25/25 [==============================] - 0s 3ms/step - loss: 0.4694 - acc: 0.9663 - val_loss: 0.6724 - val_acc: 0.5750\n",
            "Epoch 10/10\n",
            "25/25 [==============================] - 0s 3ms/step - loss: 0.4247 - acc: 0.9712 - val_loss: 0.6693 - val_acc: 0.5650\n"
          ]
        }
      ],
      "source": [
        "# Creating a Sequential model\n",
        "model = Sequential()\n",
        "\n",
        "# Adding an Embedding layer with vocabulary size 10,000, output dimension 8, and input length maxlen\n",
        "model.add(Embedding(10000, 8, input_length=maxlen))\n",
        "\n",
        "# Flattening the 3D tensor output from the Embedding layer to a 2D tensor\n",
        "model.add(Flatten())\n",
        "\n",
        "# Adding a Dense layer with 1 unit and sigmoid activation function for binary classification\n",
        "model.add(Dense(1, activation='sigmoid'))\n",
        "\n",
        "# Compiling the model with RMSprop optimizer, binary crossentropy loss, and accuracy metric\n",
        "model.compile(optimizer='rmsprop', loss='binary_crossentropy', metrics=['acc'])\n",
        "\n",
        "# Displaying the model summary\n",
        "model.summary()\n",
        "\n",
        "# Training the model on the training data with 10 epochs, batch size of 32, and 20% validation split\n",
        "model_4 = model.fit(x_train, y_train,\n",
        "                      epochs=10,\n",
        "                      batch_size=32,\n",
        "                      validation_split=0.2)\n"
      ]
    },
    {
      "cell_type": "markdown",
      "metadata": {
        "id": "KJHO3dX2fuj-"
      },
      "source": [
        "#### Extracting and Visualizing Training History"
      ]
    },
    {
      "cell_type": "code",
      "execution_count": 43,
      "metadata": {
        "colab": {
          "base_uri": "https://localhost:8080/",
          "height": 887
        },
        "id": "-YXU7flvfdJ4",
        "outputId": "036d9e3b-aada-49ce-8375-7fd25ff33221"
      },
      "outputs": [
        {
          "output_type": "display_data",
          "data": {
            "text/plain": [
              "<Figure size 640x480 with 1 Axes>"
            ],
            "image/png": "[encoded data removed]"
          },
          "metadata": {}
        },
        {
          "output_type": "display_data",
          "data": {
            "text/plain": [
              "<Figure size 640x480 with 1 Axes>"
            ],
            "image/png": "[encoded data removed]"
          },
          "metadata": {}
        }
      ],
      "source": [
        "# Extract training history metrics\n",
        "accuracy = model_4.history['acc']\n",
        "val_accuracy = model_4.history['val_acc']\n",
        "loss = model_4.history['loss']\n",
        "val_loss = model_4.history['val_loss']\n",
        "\n",
        "# Create a plot for training and validation accuracy\n",
        "epochs = range(1, len(accuracy) + 1)\n",
        "plt.plot(epochs, accuracy, 'red', label='Training accuracy')\n",
        "plt.plot(epochs, val_accuracy, 'blue', label='Validation accuracy')\n",
        "plt.title('Training and validation accuracy')\n",
        "plt.legend()\n",
        "\n",
        "# Display a separate plot for training and validation loss\n",
        "plt.figure()\n",
        "plt.plot(epochs, loss, 'green', label='Training loss')\n",
        "plt.plot(epochs, val_loss, 'orange', label='Validation loss')\n",
        "plt.title('Training and validation loss')\n",
        "plt.legend()\n",
        "\n",
        "# Show the plots\n",
        "plt.show()\n"
      ]
    },
    {
      "cell_type": "code",
      "execution_count": 44,
      "metadata": {
        "colab": {
          "base_uri": "https://localhost:8080/"
        },
        "id": "_vSNiPRvf507",
        "outputId": "5b29dc86-7f39-4fd4-b6fd-f77749ddc820"
      },
      "outputs": [
        {
          "output_type": "stream",
          "name": "stdout",
          "text": [
            "782/782 [==============================] - 1s 1ms/step - loss: 0.6822 - acc: 0.5589\n",
            "Test loss: 0.6821943521499634\n",
            "Test accuracy: 0.5589200258255005\n"
          ]
        }
      ],
      "source": [
        "# Evaluating the model on the test set\n",
        "test_loss, test_acc = model.evaluate(x_test, y_test)\n",
        "\n",
        "# Printing the test loss and accuracy\n",
        "print('Test loss:', test_loss)\n",
        "print('Test accuracy:', test_acc)"
      ]
    },
    {
      "cell_type": "markdown",
      "metadata": {
        "id": "tug1zS32gIAR"
      },
      "source": [
        "#Model 5 - Training a model with an Embedding layer + Conv1D layers+ Dropout using 20000 training samples"
      ]
    },
    {
      "cell_type": "code",
      "execution_count": 45,
      "metadata": {
        "id": "-VAZ0HaxgX4V"
      },
      "outputs": [],
      "source": [
        "# Defining the maximum number of features and maximum sequence length\n",
        "max_features = 10000\n",
        "maxlen = 150\n",
        "\n",
        "# Loading the IMDB dataset with a specified number of words\n",
        "(x_train, y_train), (x_test, y_test) = imdb.load_data(num_words=max_features)\n",
        "\n",
        "# Padding the sequences to have a consistent length\n",
        "x_train = pad_sequences(x_train, maxlen=maxlen)\n",
        "x_test = pad_sequences(x_test, maxlen=maxlen)\n",
        "\n",
        "# Concatenating the training and test sets to create the texts and labels arrays\n",
        "texts = np.concatenate((x_train, x_test), axis=0)\n",
        "labels = np.concatenate((y_train, y_test), axis=0)\n",
        "\n",
        "# Selecting a subset of the training data (20,000 samples)\n",
        "x_train = x_train[:20000]\n",
        "y_train = y_train[:20000]\n"
      ]
    },
    {
      "cell_type": "code",
      "execution_count": 47,
      "metadata": {
        "colab": {
          "base_uri": "https://localhost:8080/"
        },
        "id": "FaFvB54sgiWH",
        "outputId": "7d7d15b0-d9f6-4535-9459-cdf709f5965e"
      },
      "outputs": [
        {
          "output_type": "stream",
          "name": "stdout",
          "text": [
            "Model: \"sequential_8\"\n",
            "_________________________________________________________________\n",
            " Layer (type)                Output Shape              Param #   \n",
            "=================================================================\n",
            " embedding_9 (Embedding)     (None, 150, 10)           100000    \n",
            "                                                                 \n",
            " conv1d_3 (Conv1D)           (None, 148, 512)          15872     \n",
            "                                                                 \n",
            " max_pooling1d_3 (MaxPooling  (None, 49, 512)          0         \n",
            " 1D)                                                             \n",
            "                                                                 \n",
            " conv1d_4 (Conv1D)           (None, 47, 256)           393472    \n",
            "                                                                 \n",
            " max_pooling1d_4 (MaxPooling  (None, 15, 256)          0         \n",
            " 1D)                                                             \n",
            "                                                                 \n",
            " conv1d_5 (Conv1D)           (None, 13, 256)           196864    \n",
            "                                                                 \n",
            " dropout_1 (Dropout)         (None, 13, 256)           0         \n",
            "                                                                 \n",
            " max_pooling1d_5 (MaxPooling  (None, 4, 256)           0         \n",
            " 1D)                                                             \n",
            "                                                                 \n",
            " global_max_pooling1d_1 (Glo  (None, 256)              0         \n",
            " balMaxPooling1D)                                                \n",
            "                                                                 \n",
            " flatten_7 (Flatten)         (None, 256)               0         \n",
            "                                                                 \n",
            " dense_9 (Dense)             (None, 1)                 257       \n",
            "                                                                 \n",
            "=================================================================\n",
            "Total params: 706,465\n",
            "Trainable params: 706,465\n",
            "Non-trainable params: 0\n",
            "_________________________________________________________________\n",
            "Epoch 1/10\n",
            "500/500 [==============================] - 9s 16ms/step - loss: 0.6943 - acc: 0.5029 - val_loss: 0.6932 - val_acc: 0.5015\n",
            "Epoch 2/10\n",
            "500/500 [==============================] - 8s 15ms/step - loss: 0.5535 - acc: 0.6880 - val_loss: 0.5167 - val_acc: 0.8010\n",
            "Epoch 3/10\n",
            "500/500 [==============================] - 8s 15ms/step - loss: 0.3621 - acc: 0.8425 - val_loss: 0.4740 - val_acc: 0.8400\n",
            "Epoch 4/10\n",
            "500/500 [==============================] - 8s 15ms/step - loss: 0.2986 - acc: 0.8779 - val_loss: 0.4541 - val_acc: 0.8265\n",
            "Epoch 5/10\n",
            "500/500 [==============================] - 8s 15ms/step - loss: 0.2614 - acc: 0.8966 - val_loss: 0.4449 - val_acc: 0.8388\n",
            "Epoch 6/10\n",
            "500/500 [==============================] - 8s 15ms/step - loss: 0.2326 - acc: 0.9082 - val_loss: 0.4210 - val_acc: 0.8270\n",
            "Epoch 7/10\n",
            "500/500 [==============================] - 8s 15ms/step - loss: 0.2117 - acc: 0.9172 - val_loss: 0.4250 - val_acc: 0.8342\n",
            "Epoch 8/10\n",
            "500/500 [==============================] - 8s 15ms/step - loss: 0.1888 - acc: 0.9319 - val_loss: 0.4215 - val_acc: 0.8220\n",
            "Epoch 9/10\n",
            "500/500 [==============================] - 8s 15ms/step - loss: 0.1700 - acc: 0.9380 - val_loss: 0.4330 - val_acc: 0.8098\n",
            "Epoch 10/10\n",
            "500/500 [==============================] - 8s 15ms/step - loss: 0.1523 - acc: 0.9454 - val_loss: 0.4030 - val_acc: 0.8245\n"
          ]
        }
      ],
      "source": [
        "# Creating a Sequential model with embedding and Conv1D layers\n",
        "model = Sequential()\n",
        "model.add(Embedding(10000, 10, input_length=maxlen))\n",
        "model.add(Conv1D(512, 3, activation='relu'))\n",
        "model.add(MaxPooling1D(3))\n",
        "\n",
        "model.add(Conv1D(256, 3, activation='relu'))\n",
        "model.add(MaxPooling1D(3))\n",
        "\n",
        "model.add(Conv1D(256, 3, activation='relu'))\n",
        "model.add(Dropout(0.8))\n",
        "model.add(MaxPooling1D(3))\n",
        "\n",
        "model.add(GlobalMaxPooling1D())\n",
        "model.add(Flatten())\n",
        "model.add(Dense(1, activation='sigmoid'))\n",
        "\n",
        "# Compiling the model\n",
        "model.compile(optimizer='rmsprop', loss='binary_crossentropy', metrics=['acc'])\n",
        "\n",
        "# Displaying the model summary\n",
        "model.summary()\n",
        "\n",
        "# Training the model and saving the training history\n",
        "model_5 = model.fit(x_train, y_train,\n",
        "                      epochs=10,\n",
        "                      batch_size=32,\n",
        "                      validation_split=0.2)"
      ]
    },
    {
      "cell_type": "markdown",
      "metadata": {
        "id": "pzGLaZdFjqfS"
      },
      "source": [
        "#### Extracting and Visualizing Training History"
      ]
    },
    {
      "cell_type": "code",
      "execution_count": 48,
      "metadata": {
        "colab": {
          "base_uri": "https://localhost:8080/",
          "height": 887
        },
        "id": "JTJih-GYhWCx",
        "outputId": "eae8b5f3-cfd5-4b34-b890-4f47ee1f5dd1"
      },
      "outputs": [
        {
          "output_type": "display_data",
          "data": {
            "text/plain": [
              "<Figure size 640x480 with 1 Axes>"
            ],
            "image/png": "[encoded data removed]"
          },
          "metadata": {}
        },
        {
          "output_type": "display_data",
          "data": {
            "text/plain": [
              "<Figure size 640x480 with 1 Axes>"
            ],
            "image/png": "[encoded data removed]"
          },
          "metadata": {}
        }
      ],
      "source": [
        "# Extracting training history metrics\n",
        "accuracy = model_5.history['acc']\n",
        "val_accuracy = model_5.history['val_acc']\n",
        "loss = model_5.history['loss']\n",
        "val_loss = model_5.history['val_loss']\n",
        "\n",
        "# Creating a range of epochs for plotting\n",
        "epochs = range(1, len(accuracy) + 1)\n",
        "\n",
        "# Plotting training and validation accuracy\n",
        "plt.plot(epochs, accuracy, 'red', label='Training accuracy')\n",
        "plt.plot(epochs, val_accuracy, 'blue', label='Validation accuracy')\n",
        "plt.title('Training and validation accuracy')\n",
        "plt.legend()\n",
        "\n",
        "# Creating a new figure for plotting training and validation loss\n",
        "plt.figure()\n",
        "\n",
        "# Plotting training and validation loss\n",
        "plt.plot(epochs, loss, 'green', label='Training loss')\n",
        "plt.plot(epochs, val_loss, 'orange', label='Validation loss')\n",
        "plt.title('Training and validation loss')\n",
        "plt.legend()\n",
        "\n",
        "# Displaying the plots\n",
        "plt.show()\n"
      ]
    },
    {
      "cell_type": "code",
      "execution_count": 49,
      "metadata": {
        "colab": {
          "base_uri": "https://localhost:8080/"
        },
        "id": "zdnfvFfZhdWx",
        "outputId": "f990ed8d-9254-4d6b-d984-aacf493258fd"
      },
      "outputs": [
        {
          "output_type": "stream",
          "name": "stdout",
          "text": [
            "782/782 [==============================] - 4s 5ms/step - loss: 0.4210 - acc: 0.8131\n",
            "Test loss: 0.4210130572319031\n",
            "Test accuracy: 0.8131200075149536\n"
          ]
        }
      ],
      "source": [
        "# Evaluating the model on the test set\n",
        "test_loss, test_acc = model.evaluate(x_test, y_test)\n",
        "\n",
        "# Printing test loss and accuracy\n",
        "print('Test loss:', test_loss)\n",
        "print('Test accuracy:', test_acc)\n"
      ]
    },
    {
      "cell_type": "markdown",
      "metadata": {
        "id": "V8DSfzrGhvBL"
      },
      "source": [
        "### Conclusion:\n",
        "#### Improved Accuracy with Conv1D and Larger Training Sample\n",
        "\n",
        "1. Previous Training Sample Accuracy - Accuracy was still poor.\n",
        "2. Enhanced Model\n",
        "    - Employed Conv1D layers.\n",
        "    - Increased the training sample size.\n",
        "3. Result\n",
        "    - Achieved an accuracy of 80%.\n"
      ]
    },
    {
      "cell_type": "markdown",
      "metadata": {
        "id": "TqfSk6GeijuB"
      },
      "source": [
        "# Model 6 with Training sample- 30000 with embedding layers and Conv1D"
      ]
    },
    {
      "cell_type": "code",
      "execution_count": 50,
      "metadata": {
        "id": "MpMHQFZ-iptW"
      },
      "outputs": [],
      "source": [
        "# Setting up the data with a larger training sample size\n",
        "max_features = 10000  # Maximum number of words in the vocabulary\n",
        "maxlen = 150  # Maximum length of input sequences\n",
        "\n",
        "# Loading the IMDb movie review dataset\n",
        "(x_train, y_train), (x_test, y_test) = imdb.load_data(num_words=max_features)\n",
        "\n",
        "# Padding sequences to have a uniform length\n",
        "x_train = pad_sequences(x_train, maxlen=maxlen)\n",
        "x_test = pad_sequences(x_test, maxlen=maxlen)\n",
        "\n",
        "# Concatenating training and test data for further processing\n",
        "texts = np.concatenate((x_train, x_test), axis=0)\n",
        "labels = np.concatenate((x_train, x_test), axis=0)\n",
        "\n",
        "# Selecting a larger training sample size\n",
        "x_train = x_train[:30000]\n",
        "y_train = y_train[:30000]\n"
      ]
    },
    {
      "cell_type": "code",
      "execution_count": 51,
      "metadata": {
        "colab": {
          "base_uri": "https://localhost:8080/"
        },
        "id": "iFr6j-MrjPYm",
        "outputId": "885f835f-6f3d-4a33-96f6-a2f3bb30a759"
      },
      "outputs": [
        {
          "output_type": "stream",
          "name": "stdout",
          "text": [
            "Model: \"sequential_9\"\n",
            "_________________________________________________________________\n",
            " Layer (type)                Output Shape              Param #   \n",
            "=================================================================\n",
            " embedding_10 (Embedding)    (None, 150, 12)           120000    \n",
            "                                                                 \n",
            " conv1d_6 (Conv1D)           (None, 148, 512)          18944     \n",
            "                                                                 \n",
            " max_pooling1d_6 (MaxPooling  (None, 49, 512)          0         \n",
            " 1D)                                                             \n",
            "                                                                 \n",
            " conv1d_7 (Conv1D)           (None, 47, 256)           393472    \n",
            "                                                                 \n",
            " max_pooling1d_7 (MaxPooling  (None, 15, 256)          0         \n",
            " 1D)                                                             \n",
            "                                                                 \n",
            " conv1d_8 (Conv1D)           (None, 13, 256)           196864    \n",
            "                                                                 \n",
            " dropout_2 (Dropout)         (None, 13, 256)           0         \n",
            "                                                                 \n",
            " max_pooling1d_8 (MaxPooling  (None, 4, 256)           0         \n",
            " 1D)                                                             \n",
            "                                                                 \n",
            " global_max_pooling1d_2 (Glo  (None, 256)              0         \n",
            " balMaxPooling1D)                                                \n",
            "                                                                 \n",
            " flatten_8 (Flatten)         (None, 256)               0         \n",
            "                                                                 \n",
            " dense_10 (Dense)            (None, 1)                 257       \n",
            "                                                                 \n",
            "=================================================================\n",
            "Total params: 729,537\n",
            "Trainable params: 729,537\n",
            "Non-trainable params: 0\n",
            "_________________________________________________________________\n",
            "Epoch 1/10\n",
            "625/625 [==============================] - 11s 16ms/step - loss: 0.6591 - acc: 0.5576 - val_loss: 0.5652 - val_acc: 0.7724\n",
            "Epoch 2/10\n",
            "625/625 [==============================] - 10s 16ms/step - loss: 0.3974 - acc: 0.8234 - val_loss: 0.4689 - val_acc: 0.8354\n",
            "Epoch 3/10\n",
            "625/625 [==============================] - 10s 15ms/step - loss: 0.3227 - acc: 0.8631 - val_loss: 0.4444 - val_acc: 0.8228\n",
            "Epoch 4/10\n",
            "625/625 [==============================] - 10s 16ms/step - loss: 0.2829 - acc: 0.8837 - val_loss: 0.4214 - val_acc: 0.8426\n",
            "Epoch 5/10\n",
            "625/625 [==============================] - 9s 15ms/step - loss: 0.2575 - acc: 0.8974 - val_loss: 0.4344 - val_acc: 0.8442\n",
            "Epoch 6/10\n",
            "625/625 [==============================] - 10s 15ms/step - loss: 0.2297 - acc: 0.9136 - val_loss: 0.3932 - val_acc: 0.8480\n",
            "Epoch 7/10\n",
            "625/625 [==============================] - 10s 15ms/step - loss: 0.2093 - acc: 0.9194 - val_loss: 0.4004 - val_acc: 0.8438\n",
            "Epoch 8/10\n",
            "625/625 [==============================] - 10s 15ms/step - loss: 0.1868 - acc: 0.9309 - val_loss: 0.4058 - val_acc: 0.8212\n",
            "Epoch 9/10\n",
            "625/625 [==============================] - 10s 16ms/step - loss: 0.1641 - acc: 0.9384 - val_loss: 0.4040 - val_acc: 0.8346\n",
            "Epoch 10/10\n",
            "625/625 [==============================] - 10s 15ms/step - loss: 0.1375 - acc: 0.9514 - val_loss: 0.4062 - val_acc: 0.8146\n"
          ]
        }
      ],
      "source": [
        "# Creating a sequential model\n",
        "model = Sequential()\n",
        "\n",
        "# Adding layers to the model\n",
        "model.add(Embedding(10000, 12, input_length=maxlen))\n",
        "model.add(Conv1D(512, 3, activation='relu'))\n",
        "model.add(MaxPooling1D(3))\n",
        "\n",
        "model.add(Conv1D(256, 3, activation='relu'))\n",
        "model.add(MaxPooling1D(3))\n",
        "\n",
        "model.add(Conv1D(256, 3, activation='relu'))\n",
        "model.add(Dropout(0.8))\n",
        "model.add(MaxPooling1D(3))\n",
        "\n",
        "model.add(GlobalMaxPooling1D())\n",
        "model.add(Flatten())\n",
        "model.add(Dense(1, activation='sigmoid'))\n",
        "\n",
        "# Compiling the model\n",
        "model.compile(optimizer='rmsprop', loss='binary_crossentropy', metrics=['acc'])\n",
        "model.summary()\n",
        "\n",
        "# Training the model\n",
        "model_6 = model.fit(x_train, y_train,\n",
        "                       epochs=10,\n",
        "                       batch_size=32,\n",
        "                       validation_split=0.2)\n"
      ]
    },
    {
      "cell_type": "markdown",
      "metadata": {
        "id": "SZbRATR6jwTC"
      },
      "source": [
        "#### Extracting and Visualizing Training History"
      ]
    },
    {
      "cell_type": "code",
      "execution_count": 52,
      "metadata": {
        "colab": {
          "base_uri": "https://localhost:8080/",
          "height": 887
        },
        "id": "Icgj2v6VjkYg",
        "outputId": "aece6c38-29f5-4eeb-d87f-a51d1bcfb275"
      },
      "outputs": [
        {
          "output_type": "display_data",
          "data": {
            "text/plain": [
              "<Figure size 640x480 with 1 Axes>"
            ],
            "image/png": "[encoded data removed]"
          },
          "metadata": {}
        },
        {
          "output_type": "display_data",
          "data": {
            "text/plain": [
              "<Figure size 640x480 with 1 Axes>"
            ],
            "image/png": "[encoded data removed]"
          },
          "metadata": {}
        }
      ],
      "source": [
        "# Extracting training metrics\n",
        "accuracy = model_6.history['acc']\n",
        "val_accuracy = model_6.history['val_acc']\n",
        "loss = model_6.history['loss']\n",
        "val_loss = model_6.history['val_loss']\n",
        "\n",
        "# Plotting training and validation accuracy\n",
        "epochs = range(1, len(accuracy) + 1)\n",
        "\n",
        "plt.plot(epochs, accuracy, 'red', label='Training accuracy')\n",
        "plt.plot(epochs, val_accuracy, 'blue', label='Validation accuracy')\n",
        "plt.title('Training and validation accuracy')\n",
        "plt.legend()\n",
        "\n",
        "# Creating a new figure for plotting training and validation loss\n",
        "plt.figure()\n",
        "\n",
        "# Plotting training and validation loss\n",
        "plt.plot(epochs, loss, 'green', label='Training loss')\n",
        "plt.plot(epochs, val_loss, 'orange', label='Validation loss')\n",
        "plt.title('Training and validation loss')\n",
        "plt.legend()\n",
        "\n",
        "# Displaying the plots\n",
        "plt.show()\n"
      ]
    },
    {
      "cell_type": "code",
      "execution_count": 53,
      "metadata": {
        "colab": {
          "base_uri": "https://localhost:8080/"
        },
        "id": "9K5wZBJEj-_J",
        "outputId": "b78cb23d-5a69-4186-8a32-768bd3bc8c4d"
      },
      "outputs": [
        {
          "output_type": "stream",
          "name": "stdout",
          "text": [
            "782/782 [==============================] - 4s 5ms/step - loss: 0.4274 - acc: 0.8002\n",
            "Test loss: 0.4273532032966614\n",
            "Test accuracy: 0.8002399802207947\n"
          ]
        }
      ],
      "source": [
        "# Evaluating the model on the test set\n",
        "test_loss, test_acc = model.evaluate(x_test, y_test)\n",
        "print('Test loss:', test_loss)\n",
        "print('Test accuracy:', test_acc)\n"
      ]
    },
    {
      "cell_type": "markdown",
      "metadata": {
        "id": "AD9TNXImkCes"
      },
      "source": [
        "# Model 7: Utilizing Pretrained Word Embeddings"
      ]
    },
    {
      "cell_type": "code",
      "execution_count": 54,
      "metadata": {
        "colab": {
          "base_uri": "https://localhost:8080/"
        },
        "id": "AO9xTDYIkBkQ",
        "outputId": "02a395b8-99a7-4d0b-f39a-f400ba5dc34f"
      },
      "outputs": [
        {
          "output_type": "stream",
          "name": "stdout",
          "text": [
            "Model: \"sequential_10\"\n",
            "_________________________________________________________________\n",
            " Layer (type)                Output Shape              Param #   \n",
            "=================================================================\n",
            " embedding_11 (Embedding)    (None, 1, 100)            500       \n",
            "                                                                 \n",
            " simple_rnn (SimpleRNN)      (None, 32)                4256      \n",
            "                                                                 \n",
            " dense_11 (Dense)            (None, 1)                 33        \n",
            "                                                                 \n",
            "=================================================================\n",
            "Total params: 4,789\n",
            "Trainable params: 4,289\n",
            "Non-trainable params: 500\n",
            "_________________________________________________________________\n"
          ]
        }
      ],
      "source": [
        "import tensorflow as tf\n",
        "from tensorflow.keras.layers import Embedding, SimpleRNN, Dense\n",
        "from tensorflow.keras.initializers import Constant\n",
        "from tensorflow.keras.models import Sequential\n",
        "from tensorflow.keras.preprocessing.text import Tokenizer\n",
        "from tensorflow.keras.preprocessing.sequence import pad_sequences\n",
        "import numpy as np\n",
        "\n",
        "# Load pre-trained word embeddings\n",
        "embeddings_index = {}\n",
        "with open('/content/drive/MyDrive/aclImdb/imdbEr.txt') as f:\n",
        "    for line in f:\n",
        "        values = line.split()\n",
        "        word = values[0]\n",
        "        vector = np.asarray(values[1:], dtype='float32')\n",
        "        embeddings_index[word] = vector\n",
        "\n",
        "# Assuming 'texts' is a list of strings\n",
        "texts = ['your', 'list', 'of', 'strings']\n",
        "\n",
        "# Set the maximum number of words to use and the embedding dimension\n",
        "max_words = 10000\n",
        "embedding_dim = 100\n",
        "\n",
        "# Tokenize the text and create sequences of integer word indices\n",
        "tokenizer = Tokenizer(num_words=max_words)\n",
        "tokenizer.fit_on_texts(texts)\n",
        "sequences = tokenizer.texts_to_sequences(texts)\n",
        "\n",
        "# Pad the sequences to have a consistent length\n",
        "if len(sequences) > 0:\n",
        "    max_sequence_length = max(len(s) for s in sequences)\n",
        "else:\n",
        "    max_sequence_length = 0\n",
        "\n",
        "data = pad_sequences(sequences, maxlen=max_sequence_length)\n",
        "\n",
        "# Create the embedding matrix\n",
        "word_index = tokenizer.word_index\n",
        "num_words = min(max_words, len(word_index) + 1)\n",
        "embedding_matrix = np.zeros((num_words, embedding_dim))\n",
        "for word, i in word_index.items():\n",
        "    if i < max_words:\n",
        "        embedding_vector = embeddings_index.get(word)\n",
        "        if embedding_vector is not None:\n",
        "            embedding_matrix[i] = embedding_vector\n",
        "\n",
        "# Define the RNN model\n",
        "model = Sequential()\n",
        "model.add(Embedding(num_words,\n",
        "                    embedding_dim,\n",
        "                    embeddings_initializer=Constant(embedding_matrix),\n",
        "                    input_length=max_sequence_length,\n",
        "                    trainable=False))\n",
        "model.add(SimpleRNN(32))\n",
        "model.add(Dense(1, activation='sigmoid'))\n",
        "\n",
        "# Compile the model\n",
        "model.compile(optimizer='rmsprop', loss='binary_crossentropy', metrics=['acc'], run_eagerly=True)\n",
        "model.summary()\n",
        "\n",
        "# Train the model\n",
        "tf.config.run_functions_eagerly(True)  # enable eager execution\n",
        "\n"
      ]
    },
    {
      "cell_type": "code",
      "execution_count": 55,
      "metadata": {
        "colab": {
          "base_uri": "https://localhost:8080/"
        },
        "id": "2jNxMgXVlApp",
        "outputId": "f83440c3-4b24-4ec7-94f4-5f6c626fc88f"
      },
      "outputs": [
        {
          "output_type": "stream",
          "name": "stdout",
          "text": [
            "Found 4 unique tokens.\n",
            "Shape of data tensor: (4, 150)\n",
            "Shape of label tensor: (50000, 150)\n"
          ]
        }
      ],
      "source": [
        "maxlen = 150\n",
        "training_samples = 15000\n",
        "validation_samples = 10000\n",
        "max_words = 10000\n",
        "\n",
        "# Initialize a Tokenizer with a specified maximum number of words\n",
        "tokenizer = Tokenizer(num_words=max_words)\n",
        "\n",
        "# Fit the tokenizer on the texts to generate word indices\n",
        "tokenizer.fit_on_texts(texts)\n",
        "sequences = tokenizer.texts_to_sequences(texts)\n",
        "\n",
        "# Retrieve the word index from the tokenizer\n",
        "word_index = tokenizer.word_index\n",
        "print('Found %s unique tokens.' % len(word_index))\n",
        "\n",
        "# Pad the sequences to have a consistent length\n",
        "data = pad_sequences(sequences, maxlen=maxlen)\n",
        "\n",
        "# Convert labels to a NumPy array\n",
        "labels = np.asarray(labels)\n",
        "\n",
        "# Display the shapes of the data and label tensors\n",
        "print('Shape of data tensor:', data.shape)\n",
        "print('Shape of label tensor:', labels.shape)\n",
        "\n",
        "# Create indices and shuffle the data and labels accordingly\n",
        "indices = np.arange(data.shape[0])\n",
        "np.random.shuffle(indices)\n",
        "data = data[indices]\n",
        "labels = labels[indices]\n",
        "\n",
        "# Split the data into training and validation sets\n",
        "x_train = data[:training_samples]\n",
        "y_train = labels[:training_samples]\n",
        "x_val = data[training_samples: training_samples + validation_samples]\n",
        "y_val = labels[training_samples: training_samples + validation_samples]\n",
        "\n"
      ]
    },
    {
      "cell_type": "code",
      "execution_count": 56,
      "metadata": {
        "colab": {
          "base_uri": "https://localhost:8080/"
        },
        "id": "Euh72GzUlLpa",
        "outputId": "d7a69484-734b-47f3-d794-50af718bd973"
      },
      "outputs": [
        {
          "output_type": "stream",
          "name": "stdout",
          "text": [
            "Model: \"sequential_11\"\n",
            "_________________________________________________________________\n",
            " Layer (type)                Output Shape              Param #   \n",
            "=================================================================\n",
            " embedding_12 (Embedding)    (None, 150, 100)          1000000   \n",
            "                                                                 \n",
            " lstm (LSTM)                 (None, 32)                17024     \n",
            "                                                                 \n",
            " dense_12 (Dense)            (None, 1)                 33        \n",
            "                                                                 \n",
            "=================================================================\n",
            "Total params: 1,017,057\n",
            "Trainable params: 1,017,057\n",
            "Non-trainable params: 0\n",
            "_________________________________________________________________\n"
          ]
        }
      ],
      "source": [
        "# Creating a sequential model\n",
        "model = Sequential()\n",
        "\n",
        "# Adding an Embedding layer with a specified input size, embedding dimension, and input length\n",
        "model.add(Embedding(max_words, embedding_dim, input_length=maxlen))\n",
        "\n",
        "# Adding an LSTM layer with 32 units\n",
        "model.add(LSTM(32))\n",
        "\n",
        "# Adding a Dense layer with 1 unit and a sigmoid activation function\n",
        "model.add(Dense(1, activation='sigmoid'))\n",
        "\n",
        "# Displaying the summary of the model architecture\n",
        "model.summary()\n"
      ]
    },
    {
      "cell_type": "code",
      "source": [
        "# Create an embedding matrix with zeros\n",
        "embedding_matrix = np.zeros((max_words, embedding_dim))\n",
        "\n",
        "# Set the weights of the Embedding layer in the model to the created embedding matrix\n",
        "model.layers[0].set_weights([embedding_matrix])\n",
        "\n",
        "# Make the Embedding layer non-trainable\n",
        "model.layers[0].trainable = False\n"
      ],
      "metadata": {
        "id": "XjJ_-gt1WtcX"
      },
      "execution_count": 57,
      "outputs": []
    },
    {
      "cell_type": "code",
      "execution_count": 58,
      "metadata": {
        "colab": {
          "base_uri": "https://localhost:8080/"
        },
        "id": "vSRCuJQolZ1V",
        "outputId": "61c01471-2cbd-41bf-99a3-5b20cfdb9c4c"
      },
      "outputs": [
        {
          "output_type": "stream",
          "name": "stdout",
          "text": [
            "Training data shape: (4, 150)\n"
          ]
        }
      ],
      "source": [
        "# Printing the shape of the training label tensor\n",
        "print(\"Training data shape:\", y_train.shape)\n"
      ]
    },
    {
      "cell_type": "code",
      "execution_count": 76,
      "metadata": {
        "id": "ghpmFl-clfrU"
      },
      "outputs": [],
      "source": [
        "# Compiling the model with the Adam optimizer, binary crossentropy loss, and accuracy metric\n",
        "model.compile(optimizer='adam',\n",
        "              loss='binary_crossentropy',\n",
        "              metrics=['acc'],\n",
        "              run_eagerly=True)\n"
      ]
    },
    {
      "cell_type": "markdown",
      "metadata": {
        "id": "_yupWez7l6qX"
      },
      "source": [
        "# Model 8 - Preparing Data for Training (30000 Samples, Pre-trained Embeddings)"
      ]
    },
    {
      "cell_type": "code",
      "execution_count": 60,
      "metadata": {
        "colab": {
          "base_uri": "https://localhost:8080/"
        },
        "id": "JMFPSM8Sl9hM",
        "outputId": "98fa3fae-d082-43c3-ca37-d17f5c4f0726"
      },
      "outputs": [
        {
          "output_type": "stream",
          "name": "stdout",
          "text": [
            "Found 4 unique tokens.\n",
            "Shape of data tensor: (4, 150)\n",
            "Shape of label tensor: (4, 150)\n"
          ]
        }
      ],
      "source": [
        "# Define parameters\n",
        "maxlen = 150\n",
        "training_samples = 30000\n",
        "validation_samples = 10000\n",
        "max_words = 10000\n",
        "\n",
        "# Tokenize the texts and create sequences\n",
        "tokenizer = Tokenizer(num_words=max_words)\n",
        "tokenizer.fit_on_texts(texts)\n",
        "sequences = tokenizer.texts_to_sequences(texts)\n",
        "\n",
        "# Get the word index\n",
        "word_index = tokenizer.word_index\n",
        "print('Found %s unique tokens.' % len(word_index))\n",
        "\n",
        "# Pad the sequences to have consistent length\n",
        "data = pad_sequences(sequences, maxlen=maxlen)\n",
        "\n",
        "# Convert labels to a NumPy array\n",
        "labels = np.asarray(labels)\n",
        "print('Shape of data tensor:', data.shape)\n",
        "print('Shape of label tensor:', labels.shape)\n",
        "\n",
        "# Create indices and shuffle the data and labels\n",
        "indices = np.arange(data.shape[0])\n",
        "np.random.shuffle(indices)\n",
        "data = data[indices]\n",
        "labels = labels[indices]\n",
        "\n",
        "# Split the data into training and validation sets\n",
        "x_train = data[:30000]\n",
        "y_train = labels[:30000]\n",
        "x_val = data[training_samples: training_samples + validation_samples]\n",
        "y_val = labels[training_samples: training_samples + validation_samples]"
      ]
    },
    {
      "cell_type": "code",
      "execution_count": 70,
      "metadata": {
        "id": "wROsJ6DYmNmh"
      },
      "outputs": [],
      "source": [
        "# Defining the model\n",
        "model = Sequential()\n",
        "\n",
        "# Adding an Embedding layer with pretrained word embeddings\n",
        "model.add(Embedding(max_words, embedding_dim, input_length=maxlen))\n",
        "\n",
        "# Adding an LSTM layer with 128 units\n",
        "model.add(LSTM(128))\n",
        "\n",
        "# Adding a Dropout layer with 0.3 dropout rate\n",
        "model.add(Dropout(0.3))\n",
        "\n",
        "# Adding a Dense layer with 256 units and ReLU activation\n",
        "model.add(Dense(256, activation='relu'))\n",
        "\n",
        "# Adding a Dropout layer with 0.2 dropout rate\n",
        "model.add(Dropout(0.2))\n",
        "\n",
        "# Adding a Dense layer with 1 unit and sigmoid activation\n",
        "model.add(Dense(1, activation='sigmoid'))\n",
        "\n",
        "# Setting the weights for the Embedding layer and make it non-trainable\n",
        "embedding_matrix = np.resize(embedding_matrix, (10000, 100))\n",
        "model.layers[0].set_weights([embedding_matrix])\n",
        "\n",
        "model.layers[0].trainable = False\n"
      ]
    },
    {
      "cell_type": "code",
      "execution_count": 71,
      "metadata": {
        "id": "0L5Ib5Z-mTnA"
      },
      "outputs": [],
      "source": [
        "# Setting Pre-trained Embeddings\n",
        "model.layers[0].set_weights([embedding_matrix])\n",
        "model.layers[0].trainable = False"
      ]
    },
    {
      "cell_type": "code",
      "execution_count": 72,
      "metadata": {
        "colab": {
          "base_uri": "https://localhost:8080/"
        },
        "id": "IhvxDZjfmYjO",
        "outputId": "e0b38469-63cb-4aed-a4d2-c566640ef1fc"
      },
      "outputs": [
        {
          "output_type": "stream",
          "name": "stdout",
          "text": [
            "Training data shape: (4, 150)\n"
          ]
        }
      ],
      "source": [
        "# Print the shape of the training data\n",
        "print(\"Training data shape:\", y_train.shape)"
      ]
    },
    {
      "cell_type": "code",
      "execution_count": 73,
      "metadata": {
        "id": "XY0LSqWs6TEh"
      },
      "outputs": [],
      "source": [
        "model.compile(optimizer='rmsprop',\n",
        "              loss='binary_crossentropy',\n",
        "              metrics=['acc'])\n"
      ]
    },
    {
      "cell_type": "code",
      "source": [
        "model.save_weights('/content/drive/MyDrive/pre_trained_glove_model.8a')"
      ],
      "metadata": {
        "id": "K9UbqRqgZLJm"
      },
      "execution_count": 78,
      "outputs": []
    },
    {
      "cell_type": "code",
      "execution_count": 80,
      "metadata": {
        "colab": {
          "base_uri": "https://localhost:8080/"
        },
        "id": "lYZvhBXAG7D7",
        "outputId": "48039543-7ded-48ea-b0f4-44dacc85fbaa"
      },
      "outputs": [
        {
          "output_type": "stream",
          "name": "stderr",
          "text": [
            "/usr/local/lib/python3.10/dist-packages/tensorflow/python/data/ops/structured_function.py:254: UserWarning: Even though the `tf.config.experimental_run_functions_eagerly` option is set, this option does not apply to tf.data functions. To force eager execution of tf.data functions, please use `tf.data.experimental.enable_debug_mode()`.\n",
            "  warnings.warn(\n"
          ]
        },
        {
          "output_type": "stream",
          "name": "stdout",
          "text": [
            "782/782 [==============================] - 194s 248ms/step - loss: 0.6931 - acc: 0.5000\n"
          ]
        },
        {
          "output_type": "execute_result",
          "data": {
            "text/plain": [
              "[0.6931474804878235, 0.5]"
            ]
          },
          "metadata": {},
          "execution_count": 80
        }
      ],
      "source": [
        "model.load_weights('/content/drive/MyDrive/pre_trained_glove_model.8a')\n",
        "model.evaluate(x_test, y_test)"
      ]
    },
    {
      "cell_type": "code",
      "execution_count": null,
      "metadata": {
        "colab": {
          "base_uri": "https://localhost:8080/"
        },
        "id": "DF283O_TxUMX",
        "outputId": "4230b615-c6da-4fb1-8c79-94c932ce8dd6"
      },
      "outputs": [
        {
          "name": "stdout",
          "output_type": "stream",
          "text": [
            "shell-init: error retrieving current directory: getcwd: cannot access parent directories: No such file or directory\n",
            "shell-init: error retrieving current directory: getcwd: cannot access parent directories: No such file or directory\n",
            "The folder you are executing pip from can no longer be found.\n"
          ]
        }
      ],
      "source": [
        "pip install nbconvert"
      ]
    },
    {
      "cell_type": "code",
      "execution_count": null,
      "metadata": {
        "id": "AWx3zmgxxF9d"
      },
      "outputs": [],
      "source": [
        "!jupyter nbconvert --to html /Updated_Sgupta22_Assignment4_TextandSequence.ipynb"
      ]
    }
  ],
  "metadata": {
    "accelerator": "TPU",
    "colab": {
      "machine_shape": "hm",
      "provenance": []
    },
    "kernelspec": {
      "display_name": "Python 3",
      "name": "python3"
    },
    "language_info": {
      "name": "python"
    }
  },
  "nbformat": 4,
  "nbformat_minor": 0
}